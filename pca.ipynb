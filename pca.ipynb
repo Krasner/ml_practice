{
 "cells": [
  {
   "cell_type": "code",
   "execution_count": 1,
   "id": "b0ad92ad",
   "metadata": {},
   "outputs": [],
   "source": [
    "import numpy as np"
   ]
  },
  {
   "cell_type": "code",
   "execution_count": 11,
   "id": "8cb494f6",
   "metadata": {},
   "outputs": [],
   "source": [
    "# if A = UDV' then\n",
    "# A'A = UDV' VDU'= U(D^2)U'\n",
    "# therefore eig(A'A) == svd(A'A)\n",
    "# because:\n",
    "# A'A U = U(D^2) = (D^2) U\n",
    "# which is of the form\n",
    "# AX = lambda X\n",
    "\n",
    "class PCA:\n",
    "    def __init__(self,n_components):\n",
    "        self.n_components = n_components\n",
    "        self.mean = None\n",
    "        self.components = None\n",
    "        \n",
    "    def fit(self, X):\n",
    "        mu = X.mean(axis=0)\n",
    "        X_ = X - mu\n",
    "        cov = np.matmul(X_.T, X_) # (d, d)\n",
    "        # eigvectors, eigvalues = np.linalg.eig(cov) #eigvectors is column-major\n",
    "        U, D, Vt = np.linalg.svd(cov)\n",
    "        eigenvectors = U\n",
    "        eigenvalues = D\n",
    "        # sort by highest eigvalues\n",
    "        idx = np.argsort(eigenvalues)[::-1] # descending\n",
    "        print(idx)\n",
    "        components = eigenvectors[:, idx].T\n",
    "        self.components = components[:self.n_components, :] # n_comp x d\n",
    "        self.mean = mu\n",
    "        \n",
    "    def transform(self, X):\n",
    "        X_ = X - self.mean # n x d\n",
    "        # project X_ onto components\n",
    "        coef = np.matmul(X_, self.components.T)"
   ]
  },
  {
   "cell_type": "code",
   "execution_count": null,
   "id": "99febddc",
   "metadata": {},
   "outputs": [],
   "source": []
  }
 ],
 "metadata": {
  "kernelspec": {
   "display_name": "Python 3 (ipykernel)",
   "language": "python",
   "name": "python3"
  },
  "language_info": {
   "codemirror_mode": {
    "name": "ipython",
    "version": 3
   },
   "file_extension": ".py",
   "mimetype": "text/x-python",
   "name": "python",
   "nbconvert_exporter": "python",
   "pygments_lexer": "ipython3",
   "version": "3.7.13"
  }
 },
 "nbformat": 4,
 "nbformat_minor": 5
}
