{
 "cells": [
  {
   "cell_type": "code",
   "execution_count": 1,
   "id": "d0da3657",
   "metadata": {},
   "outputs": [],
   "source": [
    "import pandas as pd\n",
    "import os"
   ]
  },
  {
   "cell_type": "code",
   "execution_count": 2,
   "id": "c75813ca",
   "metadata": {},
   "outputs": [
    {
     "data": {
      "text/html": [
       "<div>\n",
       "<style scoped>\n",
       "    .dataframe tbody tr th:only-of-type {\n",
       "        vertical-align: middle;\n",
       "    }\n",
       "\n",
       "    .dataframe tbody tr th {\n",
       "        vertical-align: top;\n",
       "    }\n",
       "\n",
       "    .dataframe thead th {\n",
       "        text-align: right;\n",
       "    }\n",
       "</style>\n",
       "<table border=\"1\" class=\"dataframe\">\n",
       "  <thead>\n",
       "    <tr style=\"text-align: right;\">\n",
       "      <th></th>\n",
       "      <th>sbp</th>\n",
       "      <th>tobacco</th>\n",
       "      <th>ldl</th>\n",
       "      <th>adiposity</th>\n",
       "      <th>famhist</th>\n",
       "      <th>typea</th>\n",
       "      <th>obesity</th>\n",
       "      <th>alcohol</th>\n",
       "      <th>age</th>\n",
       "      <th>chd</th>\n",
       "    </tr>\n",
       "  </thead>\n",
       "  <tbody>\n",
       "    <tr>\n",
       "      <th>0</th>\n",
       "      <td>160</td>\n",
       "      <td>12.00</td>\n",
       "      <td>5.73</td>\n",
       "      <td>23.11</td>\n",
       "      <td>Present</td>\n",
       "      <td>49</td>\n",
       "      <td>25.30</td>\n",
       "      <td>97.20</td>\n",
       "      <td>52</td>\n",
       "      <td>1</td>\n",
       "    </tr>\n",
       "    <tr>\n",
       "      <th>1</th>\n",
       "      <td>144</td>\n",
       "      <td>0.01</td>\n",
       "      <td>4.41</td>\n",
       "      <td>28.61</td>\n",
       "      <td>Absent</td>\n",
       "      <td>55</td>\n",
       "      <td>28.87</td>\n",
       "      <td>2.06</td>\n",
       "      <td>63</td>\n",
       "      <td>1</td>\n",
       "    </tr>\n",
       "    <tr>\n",
       "      <th>2</th>\n",
       "      <td>118</td>\n",
       "      <td>0.08</td>\n",
       "      <td>3.48</td>\n",
       "      <td>32.28</td>\n",
       "      <td>Present</td>\n",
       "      <td>52</td>\n",
       "      <td>29.14</td>\n",
       "      <td>3.81</td>\n",
       "      <td>46</td>\n",
       "      <td>0</td>\n",
       "    </tr>\n",
       "    <tr>\n",
       "      <th>3</th>\n",
       "      <td>170</td>\n",
       "      <td>7.50</td>\n",
       "      <td>6.41</td>\n",
       "      <td>38.03</td>\n",
       "      <td>Present</td>\n",
       "      <td>51</td>\n",
       "      <td>31.99</td>\n",
       "      <td>24.26</td>\n",
       "      <td>58</td>\n",
       "      <td>1</td>\n",
       "    </tr>\n",
       "    <tr>\n",
       "      <th>4</th>\n",
       "      <td>134</td>\n",
       "      <td>13.60</td>\n",
       "      <td>3.50</td>\n",
       "      <td>27.78</td>\n",
       "      <td>Present</td>\n",
       "      <td>60</td>\n",
       "      <td>25.99</td>\n",
       "      <td>57.34</td>\n",
       "      <td>49</td>\n",
       "      <td>1</td>\n",
       "    </tr>\n",
       "    <tr>\n",
       "      <th>5</th>\n",
       "      <td>132</td>\n",
       "      <td>6.20</td>\n",
       "      <td>6.47</td>\n",
       "      <td>36.21</td>\n",
       "      <td>Present</td>\n",
       "      <td>62</td>\n",
       "      <td>30.77</td>\n",
       "      <td>14.14</td>\n",
       "      <td>45</td>\n",
       "      <td>0</td>\n",
       "    </tr>\n",
       "    <tr>\n",
       "      <th>6</th>\n",
       "      <td>142</td>\n",
       "      <td>4.05</td>\n",
       "      <td>3.38</td>\n",
       "      <td>16.20</td>\n",
       "      <td>Absent</td>\n",
       "      <td>59</td>\n",
       "      <td>20.81</td>\n",
       "      <td>2.62</td>\n",
       "      <td>38</td>\n",
       "      <td>0</td>\n",
       "    </tr>\n",
       "    <tr>\n",
       "      <th>7</th>\n",
       "      <td>114</td>\n",
       "      <td>4.08</td>\n",
       "      <td>4.59</td>\n",
       "      <td>14.60</td>\n",
       "      <td>Present</td>\n",
       "      <td>62</td>\n",
       "      <td>23.11</td>\n",
       "      <td>6.72</td>\n",
       "      <td>58</td>\n",
       "      <td>1</td>\n",
       "    </tr>\n",
       "    <tr>\n",
       "      <th>8</th>\n",
       "      <td>114</td>\n",
       "      <td>0.00</td>\n",
       "      <td>3.83</td>\n",
       "      <td>19.40</td>\n",
       "      <td>Present</td>\n",
       "      <td>49</td>\n",
       "      <td>24.86</td>\n",
       "      <td>2.49</td>\n",
       "      <td>29</td>\n",
       "      <td>0</td>\n",
       "    </tr>\n",
       "    <tr>\n",
       "      <th>9</th>\n",
       "      <td>132</td>\n",
       "      <td>0.00</td>\n",
       "      <td>5.80</td>\n",
       "      <td>30.96</td>\n",
       "      <td>Present</td>\n",
       "      <td>69</td>\n",
       "      <td>30.11</td>\n",
       "      <td>0.00</td>\n",
       "      <td>53</td>\n",
       "      <td>1</td>\n",
       "    </tr>\n",
       "  </tbody>\n",
       "</table>\n",
       "</div>"
      ],
      "text/plain": [
       "   sbp  tobacco   ldl  adiposity  famhist  typea  obesity  alcohol  age  chd\n",
       "0  160    12.00  5.73      23.11  Present     49    25.30    97.20   52    1\n",
       "1  144     0.01  4.41      28.61   Absent     55    28.87     2.06   63    1\n",
       "2  118     0.08  3.48      32.28  Present     52    29.14     3.81   46    0\n",
       "3  170     7.50  6.41      38.03  Present     51    31.99    24.26   58    1\n",
       "4  134    13.60  3.50      27.78  Present     60    25.99    57.34   49    1\n",
       "5  132     6.20  6.47      36.21  Present     62    30.77    14.14   45    0\n",
       "6  142     4.05  3.38      16.20   Absent     59    20.81     2.62   38    0\n",
       "7  114     4.08  4.59      14.60  Present     62    23.11     6.72   58    1\n",
       "8  114     0.00  3.83      19.40  Present     49    24.86     2.49   29    0\n",
       "9  132     0.00  5.80      30.96  Present     69    30.11     0.00   53    1"
      ]
     },
     "execution_count": 2,
     "metadata": {},
     "output_type": "execute_result"
    }
   ],
   "source": [
    "data = pd.read_csv('./SAheart.csv', sep=',', header=0)\n",
    "data = data.drop(columns=['row.names'])\n",
    "data.head(10)"
   ]
  },
  {
   "cell_type": "code",
   "execution_count": 3,
   "id": "c00f6f69",
   "metadata": {},
   "outputs": [
    {
     "data": {
      "text/html": [
       "<div>\n",
       "<style scoped>\n",
       "    .dataframe tbody tr th:only-of-type {\n",
       "        vertical-align: middle;\n",
       "    }\n",
       "\n",
       "    .dataframe tbody tr th {\n",
       "        vertical-align: top;\n",
       "    }\n",
       "\n",
       "    .dataframe thead th {\n",
       "        text-align: right;\n",
       "    }\n",
       "</style>\n",
       "<table border=\"1\" class=\"dataframe\">\n",
       "  <thead>\n",
       "    <tr style=\"text-align: right;\">\n",
       "      <th></th>\n",
       "      <th>sbp</th>\n",
       "      <th>tobacco</th>\n",
       "      <th>ldl</th>\n",
       "      <th>adiposity</th>\n",
       "      <th>famhist</th>\n",
       "      <th>typea</th>\n",
       "      <th>obesity</th>\n",
       "      <th>alcohol</th>\n",
       "      <th>age</th>\n",
       "      <th>chd</th>\n",
       "    </tr>\n",
       "  </thead>\n",
       "  <tbody>\n",
       "    <tr>\n",
       "      <th>0</th>\n",
       "      <td>160</td>\n",
       "      <td>12.00</td>\n",
       "      <td>5.73</td>\n",
       "      <td>23.11</td>\n",
       "      <td>1</td>\n",
       "      <td>49</td>\n",
       "      <td>25.30</td>\n",
       "      <td>97.20</td>\n",
       "      <td>52</td>\n",
       "      <td>1</td>\n",
       "    </tr>\n",
       "    <tr>\n",
       "      <th>1</th>\n",
       "      <td>144</td>\n",
       "      <td>0.01</td>\n",
       "      <td>4.41</td>\n",
       "      <td>28.61</td>\n",
       "      <td>0</td>\n",
       "      <td>55</td>\n",
       "      <td>28.87</td>\n",
       "      <td>2.06</td>\n",
       "      <td>63</td>\n",
       "      <td>1</td>\n",
       "    </tr>\n",
       "    <tr>\n",
       "      <th>2</th>\n",
       "      <td>118</td>\n",
       "      <td>0.08</td>\n",
       "      <td>3.48</td>\n",
       "      <td>32.28</td>\n",
       "      <td>1</td>\n",
       "      <td>52</td>\n",
       "      <td>29.14</td>\n",
       "      <td>3.81</td>\n",
       "      <td>46</td>\n",
       "      <td>0</td>\n",
       "    </tr>\n",
       "    <tr>\n",
       "      <th>3</th>\n",
       "      <td>170</td>\n",
       "      <td>7.50</td>\n",
       "      <td>6.41</td>\n",
       "      <td>38.03</td>\n",
       "      <td>1</td>\n",
       "      <td>51</td>\n",
       "      <td>31.99</td>\n",
       "      <td>24.26</td>\n",
       "      <td>58</td>\n",
       "      <td>1</td>\n",
       "    </tr>\n",
       "    <tr>\n",
       "      <th>4</th>\n",
       "      <td>134</td>\n",
       "      <td>13.60</td>\n",
       "      <td>3.50</td>\n",
       "      <td>27.78</td>\n",
       "      <td>1</td>\n",
       "      <td>60</td>\n",
       "      <td>25.99</td>\n",
       "      <td>57.34</td>\n",
       "      <td>49</td>\n",
       "      <td>1</td>\n",
       "    </tr>\n",
       "    <tr>\n",
       "      <th>5</th>\n",
       "      <td>132</td>\n",
       "      <td>6.20</td>\n",
       "      <td>6.47</td>\n",
       "      <td>36.21</td>\n",
       "      <td>1</td>\n",
       "      <td>62</td>\n",
       "      <td>30.77</td>\n",
       "      <td>14.14</td>\n",
       "      <td>45</td>\n",
       "      <td>0</td>\n",
       "    </tr>\n",
       "    <tr>\n",
       "      <th>6</th>\n",
       "      <td>142</td>\n",
       "      <td>4.05</td>\n",
       "      <td>3.38</td>\n",
       "      <td>16.20</td>\n",
       "      <td>0</td>\n",
       "      <td>59</td>\n",
       "      <td>20.81</td>\n",
       "      <td>2.62</td>\n",
       "      <td>38</td>\n",
       "      <td>0</td>\n",
       "    </tr>\n",
       "    <tr>\n",
       "      <th>7</th>\n",
       "      <td>114</td>\n",
       "      <td>4.08</td>\n",
       "      <td>4.59</td>\n",
       "      <td>14.60</td>\n",
       "      <td>1</td>\n",
       "      <td>62</td>\n",
       "      <td>23.11</td>\n",
       "      <td>6.72</td>\n",
       "      <td>58</td>\n",
       "      <td>1</td>\n",
       "    </tr>\n",
       "    <tr>\n",
       "      <th>8</th>\n",
       "      <td>114</td>\n",
       "      <td>0.00</td>\n",
       "      <td>3.83</td>\n",
       "      <td>19.40</td>\n",
       "      <td>1</td>\n",
       "      <td>49</td>\n",
       "      <td>24.86</td>\n",
       "      <td>2.49</td>\n",
       "      <td>29</td>\n",
       "      <td>0</td>\n",
       "    </tr>\n",
       "    <tr>\n",
       "      <th>9</th>\n",
       "      <td>132</td>\n",
       "      <td>0.00</td>\n",
       "      <td>5.80</td>\n",
       "      <td>30.96</td>\n",
       "      <td>1</td>\n",
       "      <td>69</td>\n",
       "      <td>30.11</td>\n",
       "      <td>0.00</td>\n",
       "      <td>53</td>\n",
       "      <td>1</td>\n",
       "    </tr>\n",
       "  </tbody>\n",
       "</table>\n",
       "</div>"
      ],
      "text/plain": [
       "   sbp  tobacco   ldl  adiposity  famhist  typea  obesity  alcohol  age  chd\n",
       "0  160    12.00  5.73      23.11        1     49    25.30    97.20   52    1\n",
       "1  144     0.01  4.41      28.61        0     55    28.87     2.06   63    1\n",
       "2  118     0.08  3.48      32.28        1     52    29.14     3.81   46    0\n",
       "3  170     7.50  6.41      38.03        1     51    31.99    24.26   58    1\n",
       "4  134    13.60  3.50      27.78        1     60    25.99    57.34   49    1\n",
       "5  132     6.20  6.47      36.21        1     62    30.77    14.14   45    0\n",
       "6  142     4.05  3.38      16.20        0     59    20.81     2.62   38    0\n",
       "7  114     4.08  4.59      14.60        1     62    23.11     6.72   58    1\n",
       "8  114     0.00  3.83      19.40        1     49    24.86     2.49   29    0\n",
       "9  132     0.00  5.80      30.96        1     69    30.11     0.00   53    1"
      ]
     },
     "execution_count": 3,
     "metadata": {},
     "output_type": "execute_result"
    }
   ],
   "source": [
    "data1 = data.copy()\n",
    "data1['famhist'] = (data['famhist']=='Present').astype(int)\n",
    "data1.head(10)"
   ]
  },
  {
   "cell_type": "code",
   "execution_count": 4,
   "id": "c8945bf2",
   "metadata": {},
   "outputs": [
    {
     "name": "stdout",
     "output_type": "stream",
     "text": [
      "   sbp  tobacco   ldl  adiposity  famhist  typea  obesity  alcohol  age\n",
      "0  160    12.00  5.73      23.11        1     49    25.30    97.20   52\n",
      "1  144     0.01  4.41      28.61        0     55    28.87     2.06   63\n",
      "2  118     0.08  3.48      32.28        1     52    29.14     3.81   46\n",
      "3  170     7.50  6.41      38.03        1     51    31.99    24.26   58\n",
      "4  134    13.60  3.50      27.78        1     60    25.99    57.34   49\n",
      "0    1\n",
      "1    1\n",
      "2    0\n",
      "3    1\n",
      "4    1\n",
      "Name: chd, dtype: int64\n",
      "(462, 9)\n",
      "(462,)\n"
     ]
    }
   ],
   "source": [
    "y = data1['chd'].copy()\n",
    "X = data1.copy().drop(columns=['chd'])\n",
    "print(X.head())\n",
    "print(y.head())\n",
    "print(X.shape)\n",
    "print(y.shape)"
   ]
  },
  {
   "cell_type": "code",
   "execution_count": 5,
   "id": "405672db",
   "metadata": {},
   "outputs": [],
   "source": [
    "# apply normalization\n",
    "from sklearn.preprocessing import StandardScaler as SS\n",
    "from sklearn.compose import ColumnTransformer\n",
    "\n",
    "ct = ColumnTransformer(\n",
    "    [(\"ss\", SS(), [\"sbp\", \"tobacco\", \"ldl\", \"adiposity\", \"obesity\", \"alcohol\"])],\n",
    "    remainder= \"passthrough\",\n",
    ")"
   ]
  },
  {
   "cell_type": "code",
   "execution_count": 7,
   "id": "67d1c5fb",
   "metadata": {},
   "outputs": [
    {
     "name": "stdout",
     "output_type": "stream",
     "text": [
      "['sbp', 'tobacco', 'ldl', 'adiposity', 'obesity', 'alcohol', 'famhist', 'typea', 'age']\n",
      "(462, 9)\n"
     ]
    },
    {
     "data": {
      "text/html": [
       "<div>\n",
       "<style scoped>\n",
       "    .dataframe tbody tr th:only-of-type {\n",
       "        vertical-align: middle;\n",
       "    }\n",
       "\n",
       "    .dataframe tbody tr th {\n",
       "        vertical-align: top;\n",
       "    }\n",
       "\n",
       "    .dataframe thead th {\n",
       "        text-align: right;\n",
       "    }\n",
       "</style>\n",
       "<table border=\"1\" class=\"dataframe\">\n",
       "  <thead>\n",
       "    <tr style=\"text-align: right;\">\n",
       "      <th></th>\n",
       "      <th>sbp</th>\n",
       "      <th>tobacco</th>\n",
       "      <th>ldl</th>\n",
       "      <th>adiposity</th>\n",
       "      <th>obesity</th>\n",
       "      <th>alcohol</th>\n",
       "      <th>famhist</th>\n",
       "      <th>typea</th>\n",
       "      <th>age</th>\n",
       "    </tr>\n",
       "  </thead>\n",
       "  <tbody>\n",
       "    <tr>\n",
       "      <th>0</th>\n",
       "      <td>1.058564</td>\n",
       "      <td>1.823073</td>\n",
       "      <td>0.478412</td>\n",
       "      <td>-0.295503</td>\n",
       "      <td>-0.176786</td>\n",
       "      <td>3.277738</td>\n",
       "      <td>1.0</td>\n",
       "      <td>49.0</td>\n",
       "      <td>52.0</td>\n",
       "    </tr>\n",
       "    <tr>\n",
       "      <th>1</th>\n",
       "      <td>0.277089</td>\n",
       "      <td>-0.790237</td>\n",
       "      <td>-0.159680</td>\n",
       "      <td>0.412140</td>\n",
       "      <td>0.671373</td>\n",
       "      <td>-0.612745</td>\n",
       "      <td>0.0</td>\n",
       "      <td>55.0</td>\n",
       "      <td>63.0</td>\n",
       "    </tr>\n",
       "    <tr>\n",
       "      <th>2</th>\n",
       "      <td>-0.992806</td>\n",
       "      <td>-0.774980</td>\n",
       "      <td>-0.609245</td>\n",
       "      <td>0.884332</td>\n",
       "      <td>0.735519</td>\n",
       "      <td>-0.541183</td>\n",
       "      <td>1.0</td>\n",
       "      <td>52.0</td>\n",
       "      <td>46.0</td>\n",
       "    </tr>\n",
       "    <tr>\n",
       "      <th>3</th>\n",
       "      <td>1.546985</td>\n",
       "      <td>0.842264</td>\n",
       "      <td>0.807126</td>\n",
       "      <td>1.624141</td>\n",
       "      <td>1.412621</td>\n",
       "      <td>0.295062</td>\n",
       "      <td>1.0</td>\n",
       "      <td>51.0</td>\n",
       "      <td>58.0</td>\n",
       "    </tr>\n",
       "    <tr>\n",
       "      <th>4</th>\n",
       "      <td>-0.211332</td>\n",
       "      <td>2.171805</td>\n",
       "      <td>-0.599577</td>\n",
       "      <td>0.305351</td>\n",
       "      <td>-0.012856</td>\n",
       "      <td>1.647775</td>\n",
       "      <td>1.0</td>\n",
       "      <td>60.0</td>\n",
       "      <td>49.0</td>\n",
       "    </tr>\n",
       "  </tbody>\n",
       "</table>\n",
       "</div>"
      ],
      "text/plain": [
       "        sbp   tobacco       ldl  adiposity   obesity   alcohol  famhist  \\\n",
       "0  1.058564  1.823073  0.478412  -0.295503 -0.176786  3.277738      1.0   \n",
       "1  0.277089 -0.790237 -0.159680   0.412140  0.671373 -0.612745      0.0   \n",
       "2 -0.992806 -0.774980 -0.609245   0.884332  0.735519 -0.541183      1.0   \n",
       "3  1.546985  0.842264  0.807126   1.624141  1.412621  0.295062      1.0   \n",
       "4 -0.211332  2.171805 -0.599577   0.305351 -0.012856  1.647775      1.0   \n",
       "\n",
       "   typea   age  \n",
       "0   49.0  52.0  \n",
       "1   55.0  63.0  \n",
       "2   52.0  46.0  \n",
       "3   51.0  58.0  \n",
       "4   60.0  49.0  "
      ]
     },
     "execution_count": 7,
     "metadata": {},
     "output_type": "execute_result"
    }
   ],
   "source": [
    "xx = ct.fit_transform(X)\n",
    "cols = [j.split('__')[-1] for j in ct.get_feature_names_out()]\n",
    "print(cols)\n",
    "X1 = pd.DataFrame(xx,columns = cols)\n",
    "print(X1.shape)\n",
    "X1.head()"
   ]
  },
  {
   "cell_type": "code",
   "execution_count": 8,
   "id": "48ba77e7",
   "metadata": {},
   "outputs": [],
   "source": [
    "from sklearn.linear_model import LogisticRegression\n",
    "from sklearn.linear_model import LinearRegression\n",
    "from sklearn.model_selection import train_test_split\n",
    "from sklearn.metrics import confusion_matrix"
   ]
  },
  {
   "cell_type": "code",
   "execution_count": 9,
   "id": "34051cca",
   "metadata": {},
   "outputs": [],
   "source": [
    "train_X, test_X, train_y, test_y = train_test_split(X1,y,test_size=0.1, random_state=1234)"
   ]
  },
  {
   "cell_type": "code",
   "execution_count": 10,
   "id": "681b6d34",
   "metadata": {},
   "outputs": [
    {
     "data": {
      "text/plain": [
       "415"
      ]
     },
     "execution_count": 10,
     "metadata": {},
     "output_type": "execute_result"
    }
   ],
   "source": [
    "len(train_y)"
   ]
  },
  {
   "cell_type": "code",
   "execution_count": 11,
   "id": "ddd07694",
   "metadata": {},
   "outputs": [],
   "source": [
    "LR = LogisticRegression(random_state=0, solver='lbfgs', multi_class='ovr', max_iter=1000).fit(train_X,train_y)\n",
    "# LR = LinearRegression().fit(train_X,train_y)"
   ]
  },
  {
   "cell_type": "code",
   "execution_count": 12,
   "id": "a6211e71",
   "metadata": {},
   "outputs": [
    {
     "name": "stdout",
     "output_type": "stream",
     "text": [
      "[1 0 0 0 0 1 0 0 0 1 0 0 0 0 0 0 0 1 1 1 0 1 0 0 0 0 0 0 0 1 0 0 1 0 0 1 1\n",
      " 0 0 0 0 0 0 0 0 0 1]\n",
      "59     0\n",
      "138    0\n",
      "262    0\n",
      "248    0\n",
      "302    0\n",
      "402    1\n",
      "319    0\n",
      "362    0\n",
      "220    0\n",
      "254    0\n",
      "429    0\n",
      "444    0\n",
      "283    0\n",
      "205    0\n",
      "214    0\n",
      "92     0\n",
      "312    1\n",
      "111    1\n",
      "22     0\n",
      "189    1\n",
      "64     0\n",
      "27     1\n",
      "296    0\n",
      "40     1\n",
      "408    0\n",
      "265    0\n",
      "445    0\n",
      "271    1\n",
      "304    0\n",
      "7      1\n",
      "315    0\n",
      "29     1\n",
      "353    1\n",
      "392    0\n",
      "252    1\n",
      "306    0\n",
      "207    0\n",
      "141    1\n",
      "285    0\n",
      "133    0\n",
      "330    0\n",
      "71     0\n",
      "441    0\n",
      "378    0\n",
      "366    0\n",
      "369    0\n",
      "364    1\n",
      "Name: chd, dtype: int64\n",
      "0.7659574468085106\n"
     ]
    },
    {
     "data": {
      "text/plain": [
       "array([[29,  5],\n",
       "       [ 6,  7]], dtype=int64)"
      ]
     },
     "execution_count": 12,
     "metadata": {},
     "output_type": "execute_result"
    }
   ],
   "source": [
    "yhat = LR.predict(test_X)\n",
    "print(yhat)\n",
    "print(test_y)\n",
    "print(LR.score(test_X, test_y))\n",
    "confusion_matrix(test_y, yhat)"
   ]
  },
  {
   "cell_type": "code",
   "execution_count": 13,
   "id": "7447ad39",
   "metadata": {},
   "outputs": [],
   "source": [
    "from sklearn.neural_network import MLPClassifier as MLP"
   ]
  },
  {
   "cell_type": "code",
   "execution_count": 14,
   "id": "d7677abc",
   "metadata": {},
   "outputs": [],
   "source": [
    "cls = MLP(random_state=0, max_iter=100, hidden_layer_sizes=(32,64,32))"
   ]
  },
  {
   "cell_type": "code",
   "execution_count": 15,
   "id": "6da0a327",
   "metadata": {},
   "outputs": [
    {
     "data": {
      "text/plain": [
       "MLPClassifier(hidden_layer_sizes=(32, 64, 32), max_iter=100, random_state=0)"
      ]
     },
     "execution_count": 15,
     "metadata": {},
     "output_type": "execute_result"
    }
   ],
   "source": [
    "cls.fit(train_X, train_y)"
   ]
  },
  {
   "cell_type": "code",
   "execution_count": 16,
   "id": "45ad72f9",
   "metadata": {},
   "outputs": [],
   "source": [
    "yhat = cls.predict(test_X)"
   ]
  },
  {
   "cell_type": "code",
   "execution_count": 17,
   "id": "45e85a52",
   "metadata": {},
   "outputs": [
    {
     "name": "stdout",
     "output_type": "stream",
     "text": [
      "[0 0 0 0 0 0 0 0 0 0 0 0 0 0 0 0 0 1 0 0 0 0 0 0 0 0 0 0 0 0 0 0 0 0 0 1 0\n",
      " 0 0 0 0 0 0 0 0 0 0]\n",
      "59     0\n",
      "138    0\n",
      "262    0\n",
      "248    0\n",
      "302    0\n",
      "402    1\n",
      "319    0\n",
      "362    0\n",
      "220    0\n",
      "254    0\n",
      "429    0\n",
      "444    0\n",
      "283    0\n",
      "205    0\n",
      "214    0\n",
      "92     0\n",
      "312    1\n",
      "111    1\n",
      "22     0\n",
      "189    1\n",
      "64     0\n",
      "27     1\n",
      "296    0\n",
      "40     1\n",
      "408    0\n",
      "265    0\n",
      "445    0\n",
      "271    1\n",
      "304    0\n",
      "7      1\n",
      "315    0\n",
      "29     1\n",
      "353    1\n",
      "392    0\n",
      "252    1\n",
      "306    0\n",
      "207    0\n",
      "141    1\n",
      "285    0\n",
      "133    0\n",
      "330    0\n",
      "71     0\n",
      "441    0\n",
      "378    0\n",
      "366    0\n",
      "369    0\n",
      "364    1\n",
      "Name: chd, dtype: int64\n",
      "0.723404255319149\n"
     ]
    },
    {
     "data": {
      "text/plain": [
       "array([[33,  1],\n",
       "       [12,  1]], dtype=int64)"
      ]
     },
     "execution_count": 17,
     "metadata": {},
     "output_type": "execute_result"
    }
   ],
   "source": [
    "print(yhat)\n",
    "print(test_y)\n",
    "print(cls.score(test_X, test_y))\n",
    "confusion_matrix(test_y, yhat)"
   ]
  },
  {
   "cell_type": "code",
   "execution_count": 18,
   "id": "c550077f",
   "metadata": {},
   "outputs": [
    {
     "data": {
      "text/plain": [
       "MLPClassifier(alpha=1e-05, hidden_layer_sizes=(5, 2), random_state=1,\n",
       "              solver='lbfgs')"
      ]
     },
     "execution_count": 18,
     "metadata": {},
     "output_type": "execute_result"
    }
   ],
   "source": [
    "NN = MLP(solver='lbfgs', alpha=1e-5, hidden_layer_sizes=(5, 2), random_state=1)\n",
    "NN.fit(train_X, train_y)"
   ]
  },
  {
   "cell_type": "code",
   "execution_count": 19,
   "id": "86d9f10e",
   "metadata": {},
   "outputs": [
    {
     "name": "stdout",
     "output_type": "stream",
     "text": [
      "[0 0 0 0 0 0 0 0 0 0 0 0 0 0 0 0 0 0 0 0 0 0 0 0 0 0 0 0 0 0 0 0 0 0 0 0 0\n",
      " 0 0 0 0 0 0 0 0 0 0]\n",
      "59     0\n",
      "138    0\n",
      "262    0\n",
      "248    0\n",
      "302    0\n",
      "402    1\n",
      "319    0\n",
      "362    0\n",
      "220    0\n",
      "254    0\n",
      "429    0\n",
      "444    0\n",
      "283    0\n",
      "205    0\n",
      "214    0\n",
      "92     0\n",
      "312    1\n",
      "111    1\n",
      "22     0\n",
      "189    1\n",
      "64     0\n",
      "27     1\n",
      "296    0\n",
      "40     1\n",
      "408    0\n",
      "265    0\n",
      "445    0\n",
      "271    1\n",
      "304    0\n",
      "7      1\n",
      "315    0\n",
      "29     1\n",
      "353    1\n",
      "392    0\n",
      "252    1\n",
      "306    0\n",
      "207    0\n",
      "141    1\n",
      "285    0\n",
      "133    0\n",
      "330    0\n",
      "71     0\n",
      "441    0\n",
      "378    0\n",
      "366    0\n",
      "369    0\n",
      "364    1\n",
      "Name: chd, dtype: int64\n"
     ]
    },
    {
     "data": {
      "text/plain": [
       "array([[34,  0],\n",
       "       [13,  0]], dtype=int64)"
      ]
     },
     "execution_count": 19,
     "metadata": {},
     "output_type": "execute_result"
    }
   ],
   "source": [
    "yhat = NN.predict(test_X)\n",
    "print(yhat)\n",
    "print(test_y)\n",
    "\n",
    "confusion_matrix(test_y, yhat)"
   ]
  },
  {
   "cell_type": "code",
   "execution_count": 20,
   "id": "509e7cd9",
   "metadata": {},
   "outputs": [
    {
     "data": {
      "text/plain": [
       "0.7234"
      ]
     },
     "execution_count": 20,
     "metadata": {},
     "output_type": "execute_result"
    }
   ],
   "source": [
    "round(NN.score(test_X,test_y), 4)"
   ]
  },
  {
   "cell_type": "code",
   "execution_count": 58,
   "id": "c772e3f4",
   "metadata": {},
   "outputs": [],
   "source": [
    "x = train_X.to_numpy()\n",
    "y = train_y.to_numpy()"
   ]
  },
  {
   "cell_type": "code",
   "execution_count": 59,
   "id": "4085610a",
   "metadata": {},
   "outputs": [
    {
     "ename": "ModuleNotFoundError",
     "evalue": "No module named 'torch'",
     "output_type": "error",
     "traceback": [
      "\u001b[1;31m---------------------------------------------------------------------------\u001b[0m",
      "\u001b[1;31mModuleNotFoundError\u001b[0m                       Traceback (most recent call last)",
      "\u001b[1;32m~\\AppData\\Local\\Temp\\1\\ipykernel_31240\\268249886.py\u001b[0m in \u001b[0;36m<module>\u001b[1;34m\u001b[0m\n\u001b[1;32m----> 1\u001b[1;33m \u001b[1;32mimport\u001b[0m \u001b[0mtorch\u001b[0m\u001b[1;33m\u001b[0m\u001b[1;33m\u001b[0m\u001b[0m\n\u001b[0m\u001b[0;32m      2\u001b[0m \u001b[1;32mfrom\u001b[0m \u001b[0mtorch\u001b[0m \u001b[1;32mimport\u001b[0m \u001b[0mnn\u001b[0m\u001b[1;33m\u001b[0m\u001b[1;33m\u001b[0m\u001b[0m\n\u001b[0;32m      3\u001b[0m \u001b[1;32mfrom\u001b[0m \u001b[0mtorch\u001b[0m\u001b[1;33m.\u001b[0m\u001b[0mutils\u001b[0m\u001b[1;33m.\u001b[0m\u001b[0mdata\u001b[0m \u001b[1;32mimport\u001b[0m \u001b[0mDataset\u001b[0m\u001b[1;33m\u001b[0m\u001b[1;33m\u001b[0m\u001b[0m\n",
      "\u001b[1;31mModuleNotFoundError\u001b[0m: No module named 'torch'"
     ]
    }
   ],
   "source": [
    "import torch\n",
    "from torch import nn\n",
    "from torch.utils.data import Dataset"
   ]
  },
  {
   "cell_type": "code",
   "execution_count": null,
   "id": "79f85016",
   "metadata": {},
   "outputs": [],
   "source": []
  }
 ],
 "metadata": {
  "kernelspec": {
   "display_name": "Python 3 (ipykernel)",
   "language": "python",
   "name": "python3"
  },
  "language_info": {
   "codemirror_mode": {
    "name": "ipython",
    "version": 3
   },
   "file_extension": ".py",
   "mimetype": "text/x-python",
   "name": "python",
   "nbconvert_exporter": "python",
   "pygments_lexer": "ipython3",
   "version": "3.7.13"
  }
 },
 "nbformat": 4,
 "nbformat_minor": 5
}
