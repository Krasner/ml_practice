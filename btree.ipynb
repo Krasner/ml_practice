{
 "cells": [
  {
   "cell_type": "code",
   "execution_count": 39,
   "id": "64723fee",
   "metadata": {},
   "outputs": [],
   "source": [
    "class Node:\n",
    "    def __init__(self, data):\n",
    "        self.data = data\n",
    "        self.left = None\n",
    "        self.right = None\n",
    "        \n",
    "    def insert(self, data):\n",
    "        if data is None:\n",
    "            return\n",
    "        \n",
    "        if data < self.data:\n",
    "            if self.left is None:\n",
    "                self.left = Node(data)\n",
    "            else:\n",
    "                self.left.insert(data)\n",
    "                \n",
    "        else:\n",
    "            if self.right is None:\n",
    "                self.right = Node(data)\n",
    "            else:\n",
    "                self.right.insert(data)\n",
    "                \n",
    "    def add(self, node):\n",
    "        if node is None:\n",
    "            return\n",
    "        \n",
    "        if node.data < self.data:\n",
    "            if self.left is None:\n",
    "                self.left = node\n",
    "            else:\n",
    "                self.left.add(node)\n",
    "                \n",
    "        else:\n",
    "            if self.right is None:\n",
    "                self.right = node\n",
    "            else:\n",
    "                self.right.add(node)"
   ]
  },
  {
   "cell_type": "code",
   "execution_count": 46,
   "id": "55647cb9",
   "metadata": {},
   "outputs": [],
   "source": [
    "def traverse(node):\n",
    "    res = []\n",
    "    res.append(node.data)\n",
    "    if node.left is not None:\n",
    "        res.extend(traverse(node.left))\n",
    "    if node.right is not None:\n",
    "        res.extend(traverse(node.right))\n",
    "    return res\n",
    "\n",
    "def traverse_levels(nodes, level=0):\n",
    "    res = []\n",
    "    if not isinstance(nodes,list):\n",
    "        nodes = [nodes]\n",
    "        \n",
    "    if len(nodes) == 0:\n",
    "        return res\n",
    "    \n",
    "    children = []\n",
    "    for node in nodes:\n",
    "        res.append((level, node.data))\n",
    "        if node.left is not None:\n",
    "            children.append(node.left)\n",
    "        if node.right is not None:\n",
    "            children.append(node.right)\n",
    "\n",
    "    res.extend(traverse_levels(children, level=level+1))\n",
    "        \n",
    "    return res"
   ]
  },
  {
   "cell_type": "code",
   "execution_count": 33,
   "id": "b0e692d7",
   "metadata": {},
   "outputs": [],
   "source": [
    "root = Node(100)\n",
    "root.insert(50)\n",
    "root.insert(25)\n",
    "root.insert(75)\n",
    "root.insert(150)\n",
    "root.insert(200)\n",
    "root.insert(125)"
   ]
  },
  {
   "cell_type": "code",
   "execution_count": 34,
   "id": "d5c1c809",
   "metadata": {},
   "outputs": [
    {
     "data": {
      "text/plain": [
       "[100, 50, 25, 75, 150, 125, 200]"
      ]
     },
     "execution_count": 34,
     "metadata": {},
     "output_type": "execute_result"
    }
   ],
   "source": [
    "traverse(root)"
   ]
  },
  {
   "cell_type": "code",
   "execution_count": 47,
   "id": "dd5ee13a",
   "metadata": {},
   "outputs": [
    {
     "data": {
      "text/plain": [
       "[(0, 100), (1, 50), (1, 150), (2, 25), (2, 75), (2, 125), (2, 200)]"
      ]
     },
     "execution_count": 47,
     "metadata": {},
     "output_type": "execute_result"
    }
   ],
   "source": [
    "traverse_levels(root)"
   ]
  },
  {
   "cell_type": "code",
   "execution_count": 41,
   "id": "776a850f",
   "metadata": {},
   "outputs": [],
   "source": [
    "def btree_from_lst(x):\n",
    "    if len(x)==0:\n",
    "        return None\n",
    "    x.sort()\n",
    "    n = len(x)\n",
    "    root = Node(x[n//2])\n",
    "    root.add(btree_from_lst(x[:n//2]))\n",
    "    root.add(btree_from_lst(x[n//2+1:]))\n",
    "    \n",
    "    return root"
   ]
  },
  {
   "cell_type": "code",
   "execution_count": 55,
   "id": "efb65a73",
   "metadata": {},
   "outputs": [
    {
     "name": "stdout",
     "output_type": "stream",
     "text": [
      "[18, 12, 88, 92, 14, 35, 25, 81, 46, 33]\n"
     ]
    }
   ],
   "source": [
    "import random\n",
    "x = list(range(100))\n",
    "random.shuffle(x)\n",
    "x = x[:10]\n",
    "print(x)\n"
   ]
  },
  {
   "cell_type": "code",
   "execution_count": 56,
   "id": "34e0046c",
   "metadata": {},
   "outputs": [],
   "source": [
    "r = btree_from_lst(x)"
   ]
  },
  {
   "cell_type": "code",
   "execution_count": 57,
   "id": "e3a45157",
   "metadata": {},
   "outputs": [
    {
     "data": {
      "text/plain": [
       "[(0, 35),\n",
       " (1, 18),\n",
       " (1, 88),\n",
       " (2, 14),\n",
       " (2, 33),\n",
       " (2, 81),\n",
       " (2, 92),\n",
       " (3, 12),\n",
       " (3, 25),\n",
       " (3, 46)]"
      ]
     },
     "execution_count": 57,
     "metadata": {},
     "output_type": "execute_result"
    }
   ],
   "source": [
    "traverse_levels(r)"
   ]
  },
  {
   "cell_type": "code",
   "execution_count": 45,
   "id": "a8d4cbb2",
   "metadata": {},
   "outputs": [
    {
     "data": {
      "text/plain": [
       "[5, 2, 1, 0, 4, 3, 8, 7, 6, 9]"
      ]
     },
     "execution_count": 45,
     "metadata": {},
     "output_type": "execute_result"
    }
   ],
   "source": [
    "traverse(r)"
   ]
  },
  {
   "cell_type": "code",
   "execution_count": null,
   "id": "58fc2a10",
   "metadata": {},
   "outputs": [],
   "source": []
  }
 ],
 "metadata": {
  "kernelspec": {
   "display_name": "Python 3 (ipykernel)",
   "language": "python",
   "name": "python3"
  },
  "language_info": {
   "codemirror_mode": {
    "name": "ipython",
    "version": 3
   },
   "file_extension": ".py",
   "mimetype": "text/x-python",
   "name": "python",
   "nbconvert_exporter": "python",
   "pygments_lexer": "ipython3",
   "version": "3.7.13"
  }
 },
 "nbformat": 4,
 "nbformat_minor": 5
}
