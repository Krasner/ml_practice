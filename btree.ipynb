{
 "cells": [
  {
   "cell_type": "code",
   "execution_count": 1,
   "id": "2b8a8155",
   "metadata": {},
   "outputs": [],
   "source": [
    "class Node:\n",
    "    def __init__(self, data):\n",
    "        self.data = data\n",
    "        self.left = None\n",
    "        self.right = None\n",
    "        \n",
    "    def insert(self, data):\n",
    "        if data is None:\n",
    "            return\n",
    "        \n",
    "        if data < self.data:\n",
    "            if self.left is None:\n",
    "                self.left = Node(data)\n",
    "            else:\n",
    "                self.left.insert(data)\n",
    "                \n",
    "        else:\n",
    "            if self.right is None:\n",
    "                self.right = Node(data)\n",
    "            else:\n",
    "                self.right.insert(data)\n",
    "                \n",
    "    def add(self, node):\n",
    "        if node is None:\n",
    "            return\n",
    "        \n",
    "        if node.data < self.data:\n",
    "            if self.left is None:\n",
    "                self.left = node\n",
    "            else:\n",
    "                self.left.add(node)\n",
    "                \n",
    "        else:\n",
    "            if self.right is None:\n",
    "                self.right = node\n",
    "            else:\n",
    "                self.right.add(node)"
   ]
  },
  {
   "cell_type": "code",
   "execution_count": 2,
   "id": "008ac592",
   "metadata": {},
   "outputs": [],
   "source": [
    "def traverse(node):\n",
    "    res = []\n",
    "    res.append(node.data)\n",
    "    if node.left is not None:\n",
    "        res.extend(traverse(node.left))\n",
    "    if node.right is not None:\n",
    "        res.extend(traverse(node.right))\n",
    "    return res\n",
    "\n",
    "def traverse_levels(nodes, level=0):\n",
    "    res = []\n",
    "    if not isinstance(nodes,list):\n",
    "        nodes = [nodes]\n",
    "        \n",
    "    if len(nodes) == 0:\n",
    "        return res\n",
    "    \n",
    "    children = []\n",
    "    for node in nodes:\n",
    "        res.append((level, node.data))\n",
    "        if node.left is not None:\n",
    "            children.append(node.left)\n",
    "        if node.right is not None:\n",
    "            children.append(node.right)\n",
    "\n",
    "    res.extend(traverse_levels(children, level=level+1))\n",
    "        \n",
    "    return res"
   ]
  },
  {
   "cell_type": "code",
   "execution_count": 3,
   "id": "35c52bbc",
   "metadata": {},
   "outputs": [],
   "source": [
    "root = Node(100)\n",
    "root.insert(50)\n",
    "root.insert(25)\n",
    "root.insert(75)\n",
    "root.insert(150)\n",
    "root.insert(200)\n",
    "root.insert(125)"
   ]
  },
  {
   "cell_type": "code",
   "execution_count": 4,
   "id": "be0a8643",
   "metadata": {},
   "outputs": [
    {
     "data": {
      "text/plain": [
       "[100, 50, 25, 75, 150, 125, 200]"
      ]
     },
     "execution_count": 4,
     "metadata": {},
     "output_type": "execute_result"
    }
   ],
   "source": [
    "traverse(root)"
   ]
  },
  {
   "cell_type": "code",
   "execution_count": 5,
   "id": "8a49504e",
   "metadata": {},
   "outputs": [
    {
     "data": {
      "text/plain": [
       "[(0, 100), (1, 50), (1, 150), (2, 25), (2, 75), (2, 125), (2, 200)]"
      ]
     },
     "execution_count": 5,
     "metadata": {},
     "output_type": "execute_result"
    }
   ],
   "source": [
    "traverse_levels(root)"
   ]
  },
  {
   "cell_type": "code",
   "execution_count": 6,
   "id": "5bc4c06a",
   "metadata": {},
   "outputs": [],
   "source": [
    "def btree_from_lst(x):\n",
    "    if len(x)==0:\n",
    "        return None\n",
    "    x.sort()\n",
    "    n = len(x)\n",
    "    root = Node(x[n//2])\n",
    "    root.add(btree_from_lst(x[:n//2]))\n",
    "    root.add(btree_from_lst(x[n//2+1:]))\n",
    "    \n",
    "    return root"
   ]
  },
  {
   "cell_type": "code",
   "execution_count": 7,
   "id": "b3e06c95",
   "metadata": {},
   "outputs": [
    {
     "name": "stdout",
     "output_type": "stream",
     "text": [
      "[76, 97, 24, 42, 10, 78, 49, 83, 4, 11]\n"
     ]
    }
   ],
   "source": [
    "import random\n",
    "x = list(range(100))\n",
    "random.shuffle(x)\n",
    "x = x[:10]\n",
    "print(x)\n"
   ]
  },
  {
   "cell_type": "code",
   "execution_count": 8,
   "id": "5eb2f01a",
   "metadata": {},
   "outputs": [],
   "source": [
    "r = btree_from_lst(x)"
   ]
  },
  {
   "cell_type": "code",
   "execution_count": 9,
   "id": "b184a6fb",
   "metadata": {},
   "outputs": [
    {
     "data": {
      "text/plain": [
       "[(0, 49),\n",
       " (1, 11),\n",
       " (1, 83),\n",
       " (2, 10),\n",
       " (2, 42),\n",
       " (2, 78),\n",
       " (2, 97),\n",
       " (3, 4),\n",
       " (3, 24),\n",
       " (3, 76)]"
      ]
     },
     "execution_count": 9,
     "metadata": {},
     "output_type": "execute_result"
    }
   ],
   "source": [
    "traverse_levels(r)"
   ]
  },
  {
   "cell_type": "code",
   "execution_count": 10,
   "id": "d4385a8d",
   "metadata": {},
   "outputs": [
    {
     "data": {
      "text/plain": [
       "[49, 11, 10, 4, 42, 24, 83, 78, 76, 97]"
      ]
     },
     "execution_count": 10,
     "metadata": {},
     "output_type": "execute_result"
    }
   ],
   "source": [
    "traverse(r)"
   ]
  },
  {
   "cell_type": "code",
   "execution_count": null,
   "id": "0b3cdc1e",
   "metadata": {},
   "outputs": [],
   "source": []
  }
 ],
 "metadata": {
  "kernelspec": {
   "display_name": "Python 3 (ipykernel)",
   "language": "python",
   "name": "python3"
  },
  "language_info": {
   "codemirror_mode": {
    "name": "ipython",
    "version": 3
   },
   "file_extension": ".py",
   "mimetype": "text/x-python",
   "name": "python",
   "nbconvert_exporter": "python",
   "pygments_lexer": "ipython3",
   "version": "3.7.13"
  }
 },
 "nbformat": 4,
 "nbformat_minor": 5
}
