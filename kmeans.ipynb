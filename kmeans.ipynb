{
 "cells": [
  {
   "cell_type": "code",
   "execution_count": 1,
   "id": "7c96300b",
   "metadata": {},
   "outputs": [],
   "source": [
    "import matplotlib.pyplot as plt\n",
    "import numpy as np\n",
    "from IPython.display import display, clear_output\n",
    "from sklearn import datasets as ds"
   ]
  },
  {
   "cell_type": "code",
   "execution_count": 2,
   "id": "b52ab6ed",
   "metadata": {},
   "outputs": [],
   "source": [
    "#x = np.concatenate((0.0 + 0.07*np.random.randn(64,1), 0.3 + 0.07*np.random.randn(64,1), 0.6 + 0.06*np.random.randn(64,1)))\n",
    "#y = np.concatenate((0.2 + 0.06*np.random.randn(64,1), 0.6 + 0.06*np.random.randn(64,1), 0.4 + 0.08*np.random.randn(64,1)))\n",
    "#X = np.concatenate((x,y), -1)\n",
    "#print(x.shape)\n",
    "\n",
    "X, _ = ds.make_blobs(n_samples=64, centers=3, n_features=2, cluster_std=1.0)"
   ]
  },
  {
   "cell_type": "code",
   "execution_count": 3,
   "id": "d9591b82",
   "metadata": {},
   "outputs": [
    {
     "data": {
      "image/png": "[encoded data removed]",
      "text/plain": [
       "<Figure size 432x288 with 1 Axes>"
      ]
     },
     "metadata": {
      "needs_background": "light"
     },
     "output_type": "display_data"
    }
   ],
   "source": [
    "plt.plot(X[:,0],X[:,1],'.')\n",
    "plt.show()"
   ]
  },
  {
   "cell_type": "code",
   "execution_count": 4,
   "id": "77c3a91c",
   "metadata": {},
   "outputs": [
    {
     "name": "stdout",
     "output_type": "stream",
     "text": [
      "[42  9  1]\n",
      "[[ 5.19823871  1.34977896]\n",
      " [ 4.34184281 -1.48258349]\n",
      " [ 3.53669233  2.23796919]]\n"
     ]
    }
   ],
   "source": [
    "c = np.random.permutation(X.shape[0])[:3]\n",
    "print(c)\n",
    "print(X[c,:])\n",
    "mu = X[c,:]"
   ]
  },
  {
   "cell_type": "code",
   "execution_count": 5,
   "id": "83f9cf45",
   "metadata": {},
   "outputs": [],
   "source": [
    "def distances(X,mu):\n",
    "    return np.sqrt(np.expand_dims(np.sum(X**2,axis=1),1) - 2*np.matmul(X, mu.T) + np.expand_dims(np.sum(mu**2,1),0))\n",
    "\n",
    "def classify(X,mu):\n",
    "    dist = distances(X, mu)\n",
    "    C = np.argmin(dist,1) # get pseudoclasses\n",
    "    return C\n",
    "\n",
    "def kmeans(X, K, iters=10):\n",
    "    fig = plt.figure()\n",
    "    ax = fig.add_subplot(1, 1, 1) \n",
    "    # randomly choose \n",
    "    c = np.random.permutation(X.shape[0])[:K]\n",
    "    mu = X[c, :]\n",
    "    C = classify(X, mu)\n",
    "    \n",
    "    ax.cla()\n",
    "    ax.scatter(X[:,0],X[:,1],marker='.', c=C)\n",
    "    ax.scatter(mu[:,0],mu[:,1],marker='x', c='k')\n",
    "        \n",
    "    for i in range(iters):\n",
    "        # plt.show()\n",
    "        display(fig)    \n",
    "        clear_output(wait = True)\n",
    "        plt.pause(0.2)\n",
    "\n",
    "        # dist = np.sqrt(np.expand_dims(np.sum(X**2,axis=1),1) - 2*np.matmul(X, mu.T) + np.expand_dims(np.sum(mu**2,1),0))\n",
    "        # print(dist)\n",
    "        # print(dist.shape)\n",
    "        # C = np.argmin(dist,1) # get pseudoclasses'\n",
    "        C = classify(X, mu)\n",
    "        for k in range(K):\n",
    "            mu[k, :] = np.mean(X[C==k,:], axis=0) # recompute centroids as means of pseudo classes\n",
    "            \n",
    "        # display\n",
    "        ax.cla()\n",
    "        ax.scatter(X[:,0],X[:,1],marker='.', c=C)\n",
    "        ax.scatter(mu[:,0],mu[:,1],marker='x', c='k')\n",
    "    \n",
    "    return mu"
   ]
  },
  {
   "cell_type": "code",
   "execution_count": 6,
   "id": "4370955a",
   "metadata": {
    "scrolled": false
   },
   "outputs": [
    {
     "data": {
      "image/png": "[encoded data removed]",
      "text/plain": [
       "<Figure size 432x288 with 1 Axes>"
      ]
     },
     "metadata": {},
     "output_type": "display_data"
    }
   ],
   "source": [
    "mu = kmeans(X,3, iters=50)"
   ]
  },
  {
   "cell_type": "code",
   "execution_count": 7,
   "id": "c388cbaf",
   "metadata": {},
   "outputs": [
    {
     "name": "stdout",
     "output_type": "stream",
     "text": [
      "(64,)\n",
      "(64, 3)\n"
     ]
    }
   ],
   "source": [
    "print(np.sum(X**2,axis=1).shape)\n",
    "print(np.matmul(X,mu.T).shape)"
   ]
  },
  {
   "cell_type": "code",
   "execution_count": null,
   "id": "ebd731fc",
   "metadata": {},
   "outputs": [],
   "source": []
  }
 ],
 "metadata": {
  "kernelspec": {
   "display_name": "Python 3 (ipykernel)",
   "language": "python",
   "name": "python3"
  },
  "language_info": {
   "codemirror_mode": {
    "name": "ipython",
    "version": 3
   },
   "file_extension": ".py",
   "mimetype": "text/x-python",
   "name": "python",
   "nbconvert_exporter": "python",
   "pygments_lexer": "ipython3",
   "version": "3.7.13"
  }
 },
 "nbformat": 4,
 "nbformat_minor": 5
}
