{
 "cells": [
  {
   "cell_type": "code",
   "execution_count": 17,
   "id": "f2ce122e",
   "metadata": {},
   "outputs": [],
   "source": [
    "from sklearn import datasets as ds\n",
    "import numpy as np"
   ]
  },
  {
   "cell_type": "code",
   "execution_count": 13,
   "id": "c65f43a9",
   "metadata": {},
   "outputs": [
    {
     "name": "stdout",
     "output_type": "stream",
     "text": [
      "(32, 2)\n"
     ]
    }
   ],
   "source": [
    "X, y = ds.make_blobs(n_samples=32, centers=2, n_features=2)\n",
    "print(X.shape)"
   ]
  },
  {
   "cell_type": "code",
   "execution_count": 5,
   "id": "a08bf901",
   "metadata": {},
   "outputs": [],
   "source": [
    "from matplotlib import pyplot as plt"
   ]
  },
  {
   "cell_type": "code",
   "execution_count": 14,
   "id": "0f5d97e9",
   "metadata": {},
   "outputs": [
    {
     "data": {
      "image/png": "[encoded data removed]",
      "text/plain": [
       "<Figure size 432x288 with 1 Axes>"
      ]
     },
     "metadata": {
      "needs_background": "light"
     },
     "output_type": "display_data"
    }
   ],
   "source": [
    "plt.scatter(X[:,0],X[:,1],marker='.',c=y)\n",
    "plt.show()"
   ]
  },
  {
   "cell_type": "code",
   "execution_count": 118,
   "id": "914db04f",
   "metadata": {},
   "outputs": [],
   "source": [
    "class SVM:\n",
    "    def __init__(self, lr=0.001, margin = 0.001, max_iters=1000):\n",
    "        self.lr = lr\n",
    "        self.margin = margin\n",
    "        self.max_iters = max_iters\n",
    "        \n",
    "        # fit boundary\n",
    "        self.w = None\n",
    "        self.b = None\n",
    "        \n",
    "    def fit(self, X, y):\n",
    "        n_samples, n_features = X.shape\n",
    "        \n",
    "        y_ = np.where(y <= 0, -1, 1) # set y to -1 and 1 NOT 0 and 1\n",
    "        y = np.expand_dims(y_, -1)\n",
    "        print(y.shape)\n",
    "        \n",
    "        self.w = np.zeros(n_features)\n",
    "        print(self.w.shape)\n",
    "        self.b = 0\n",
    "\n",
    "        for _ in range(self.max_iters):\n",
    "            \n",
    "            cond = y * (np.matmul(X, np.expand_dims(self.w,-1)) - self.b)\n",
    "            flag = np.where(cond >=1, 0, 1)\n",
    "            dLdw = 2 * self.margin * self.w - np.sum(flag * y * X, axis=0) # AXIS = 0!!\n",
    "            dLdb = np.sum(flag * y)\n",
    "            \n",
    "            self.w -= self.lr * dLdw\n",
    "            self.b -= self.lr * dLdb\n",
    "            \n",
    "            '''\n",
    "            for idx, x_i in enumerate(X):\n",
    "                # yi * (wxi - b) >= 1 if classified correctly\n",
    "                # L = max(0, 1- yi(wxi-b)) + lambda*w^2\n",
    "                # if correct: L = lambda * w^2\n",
    "                # dL/dw = 2* lambda * w; dL/db = 0\n",
    "                # if wrong: L = 1 - yi(wxi-b) + lambda * w^2\n",
    "                # dL/dw = -yixi + 2*lambda*w\n",
    "                # dL/db = yi\n",
    "                # update w = w - lr*dL/dw; b = b - lr*dL/db\n",
    "                \n",
    "                condition = y_[idx] * (np.dot(x_i, self.w) - self.b) >= 1\n",
    "                if condition:\n",
    "                    self.w -= self.lr * (2 * self.margin * self.w)\n",
    "                else:\n",
    "                    self.w -= self.lr * (2 * self.margin * self.w - np.dot(x_i, y_[idx]))\n",
    "                    self.b -= self.lr * y_[idx]\n",
    "            '''\n",
    "                    \n",
    "        print(\"W: \", self.w)\n",
    "        print(\"B: \", self.b)\n",
    "\n",
    "\n",
    "    def predict(self, X):\n",
    "        approx = np.dot(X, self.w) - self.b\n",
    "        return np.sign(approx)"
   ]
  },
  {
   "cell_type": "code",
   "execution_count": 122,
   "id": "d54decb3",
   "metadata": {},
   "outputs": [
    {
     "name": "stdout",
     "output_type": "stream",
     "text": [
      "(32, 1)\n",
      "(2,)\n",
      "W:  [-1.23142521 -1.02332002]\n",
      "B:  0.8490000000000006\n"
     ]
    }
   ],
   "source": [
    "clf = SVM(margin=0.01)\n",
    "clf.fit(X,y)\n",
    "yhat = clf.predict(X)"
   ]
  },
  {
   "cell_type": "code",
   "execution_count": 123,
   "id": "7e05cfb9",
   "metadata": {},
   "outputs": [
    {
     "name": "stdout",
     "output_type": "stream",
     "text": [
      "[ 1. -1.  1.  1. -1. -1.  1. -1. -1. -1.  1.  1.  1. -1.  1.  1.  1. -1.\n",
      " -1. -1. -1.  1.  1.  1. -1.  1. -1.  1. -1. -1.  1. -1.]\n"
     ]
    }
   ],
   "source": [
    "print(yhat)"
   ]
  },
  {
   "cell_type": "code",
   "execution_count": 124,
   "id": "4e3e263e",
   "metadata": {},
   "outputs": [
    {
     "name": "stdout",
     "output_type": "stream",
     "text": [
      "[1. 0. 1. 1. 0. 0. 1. 0. 0. 0. 1. 1. 1. 0. 1. 1. 1. 0. 0. 0. 0. 1. 1. 1.\n",
      " 0. 1. 0. 1. 0. 0. 1. 0.]\n"
     ]
    }
   ],
   "source": [
    "print(y.astype('float'))"
   ]
  },
  {
   "cell_type": "code",
   "execution_count": null,
   "id": "ef8070ef",
   "metadata": {},
   "outputs": [],
   "source": []
  }
 ],
 "metadata": {
  "kernelspec": {
   "display_name": "Python 3 (ipykernel)",
   "language": "python",
   "name": "python3"
  },
  "language_info": {
   "codemirror_mode": {
    "name": "ipython",
    "version": 3
   },
   "file_extension": ".py",
   "mimetype": "text/x-python",
   "name": "python",
   "nbconvert_exporter": "python",
   "pygments_lexer": "ipython3",
   "version": "3.7.13"
  }
 },
 "nbformat": 4,
 "nbformat_minor": 5
}
