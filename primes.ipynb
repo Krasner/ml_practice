{
 "cells": [
  {
   "cell_type": "code",
   "execution_count": 42,
   "id": "efc7eef8",
   "metadata": {},
   "outputs": [],
   "source": [
    "def is_prime(n):\n",
    "    if n%2 == 0:\n",
    "        return False\n",
    "    else:\n",
    "        for j in range(3,int(n**0.5)+1,2): # \n",
    "            if n%j == 0:\n",
    "                return False\n",
    "    return True\n",
    "\n",
    "def get_primes_upto(n):\n",
    "    res = [2]\n",
    "    # check if prime\n",
    "    for j in range(3, n, 2):\n",
    "        if is_prime(j):\n",
    "            res.append(j)\n",
    "            \n",
    "    return res\n",
    "\n",
    "def get_primes_sieve(n):\n",
    "    flags = [False] + [True]* (n-1) # start from 2\n",
    "    res = []\n",
    "    for j in range(len(flags)):\n",
    "        if flags[j]:\n",
    "            v = j+1\n",
    "            res.append(v)\n",
    "            # 2, 4, 6, 8\n",
    "            # 3, 6, 9, 12\n",
    "            for k in range(j+v, len(flags), v):\n",
    "                flags[k] = False\n",
    "    return res"
   ]
  },
  {
   "cell_type": "code",
   "execution_count": 17,
   "id": "d2656670",
   "metadata": {},
   "outputs": [
    {
     "data": {
      "text/plain": [
       "[2, 3, 5, 7, 11, 13, 17, 19, 23, 29, 31, 37, 41]"
      ]
     },
     "execution_count": 17,
     "metadata": {},
     "output_type": "execute_result"
    }
   ],
   "source": [
    "get_primes_upto(42)"
   ]
  },
  {
   "cell_type": "code",
   "execution_count": 47,
   "id": "d8550775",
   "metadata": {},
   "outputs": [
    {
     "data": {
      "text/plain": [
       "4392"
      ]
     },
     "execution_count": 47,
     "metadata": {},
     "output_type": "execute_result"
    }
   ],
   "source": [
    "len(get_primes_upto(42000))"
   ]
  },
  {
   "cell_type": "code",
   "execution_count": 48,
   "id": "27fb8036",
   "metadata": {},
   "outputs": [
    {
     "data": {
      "text/plain": [
       "4392"
      ]
     },
     "execution_count": 48,
     "metadata": {},
     "output_type": "execute_result"
    }
   ],
   "source": [
    "len(get_primes_sieve(42000))"
   ]
  },
  {
   "cell_type": "code",
   "execution_count": 32,
   "id": "cf45c1d5",
   "metadata": {},
   "outputs": [],
   "source": [
    "def get_prime_factors(n):\n",
    "    res = []\n",
    "    ps = get_primes_upto(n)\n",
    "    for p in ps:\n",
    "        if n%p == 0:\n",
    "            res.append(p)\n",
    "            \n",
    "    return res\n",
    "\n",
    "def get_prime_factors2(n):\n",
    "    res = []\n",
    "    while n%2 == 0:\n",
    "        res.append(2)\n",
    "        n = n//2\n",
    "    for j in range(3, int(n**0.5)+1, 2):\n",
    "        while n%j == 0:\n",
    "            res.append(j)\n",
    "            n = n//j\n",
    "    \n",
    "    return res"
   ]
  },
  {
   "cell_type": "code",
   "execution_count": 38,
   "id": "2e60380e",
   "metadata": {},
   "outputs": [
    {
     "data": {
      "text/plain": [
       "[7, 13, 19]"
      ]
     },
     "execution_count": 38,
     "metadata": {},
     "output_type": "execute_result"
    }
   ],
   "source": [
    "get_prime_factors(1729)"
   ]
  },
  {
   "cell_type": "code",
   "execution_count": 39,
   "id": "c7a65d8d",
   "metadata": {},
   "outputs": [
    {
     "data": {
      "text/plain": [
       "[7, 13, 19]"
      ]
     },
     "execution_count": 39,
     "metadata": {},
     "output_type": "execute_result"
    }
   ],
   "source": [
    "get_prime_factors2(1729)"
   ]
  },
  {
   "cell_type": "code",
   "execution_count": null,
   "id": "cc593966",
   "metadata": {},
   "outputs": [],
   "source": []
  }
 ],
 "metadata": {
  "kernelspec": {
   "display_name": "Python 3 (ipykernel)",
   "language": "python",
   "name": "python3"
  },
  "language_info": {
   "codemirror_mode": {
    "name": "ipython",
    "version": 3
   },
   "file_extension": ".py",
   "mimetype": "text/x-python",
   "name": "python",
   "nbconvert_exporter": "python",
   "pygments_lexer": "ipython3",
   "version": "3.7.13"
  }
 },
 "nbformat": 4,
 "nbformat_minor": 5
}
