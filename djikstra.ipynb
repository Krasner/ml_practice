{
 "cells": [
  {
   "cell_type": "code",
   "execution_count": 20,
   "id": "a4501470",
   "metadata": {},
   "outputs": [],
   "source": [
    "class Graph():\n",
    "    def __init__(self):\n",
    "        self.v = []\n",
    "        self.e = dict()\n",
    "    def add_vertex(self, v):\n",
    "        if v not in self.v:\n",
    "            self.v.append(v)\n",
    "            self.e[v] = []\n",
    "    def add_edge(self, v0, v1, cost, direction = 'bi'):\n",
    "        if v0 not in self.v:\n",
    "            self.v.append(v0)\n",
    "            self.e[v0] = []\n",
    "        if v1 not in self.v:\n",
    "            self.v.append(v1)\n",
    "            self.e[v1] = []\n",
    "        \n",
    "        edge0 = (v1, cost)\n",
    "        self.e[v0].append(edge0)\n",
    "        \n",
    "        if direction == 'bi':\n",
    "            edge1 = (v0, cost)\n",
    "            self.e[v1].append(edge1)\n",
    "            \n",
    "    def get_edges_from(self, v):\n",
    "        return self.e[v]\n",
    "    \n",
    "    def adjacency(self):\n",
    "        # M = np.zeros((len(self.v), len(self.v)))\n",
    "        M = []\n",
    "        for i, v in enumerate(self.v):\n",
    "            m = [0] * len(self.v)\n",
    "            for e in self.e[v]:\n",
    "                j = self.v.index(e[0])\n",
    "                m[j] = e[1]\n",
    "            M.append(m)\n",
    "        \n",
    "        return M"
   ]
  },
  {
   "cell_type": "code",
   "execution_count": 61,
   "id": "45f9c24b",
   "metadata": {},
   "outputs": [],
   "source": [
    "G = Graph()\n",
    "G.add_edge('A','B',2)\n",
    "G.add_edge('A','C',3)\n",
    "G.add_edge('B','D',4)\n",
    "G.add_edge('C','D',2)\n",
    "G.add_edge('B','C',1)\n",
    "G.add_edge('D','E',3)\n",
    "G.add_edge('D','F',2)\n",
    "G.add_edge('D','G',3)\n",
    "G.add_edge('E','F',1)\n",
    "G.add_edge('F','G',1)"
   ]
  },
  {
   "cell_type": "code",
   "execution_count": 62,
   "id": "7f70672c",
   "metadata": {},
   "outputs": [
    {
     "name": "stdout",
     "output_type": "stream",
     "text": [
      "[[0, 2, 3, 0, 0, 0, 0], [2, 0, 1, 4, 0, 0, 0], [3, 1, 0, 2, 0, 0, 0], [0, 4, 2, 0, 3, 2, 3], [0, 0, 0, 3, 0, 1, 0], [0, 0, 0, 2, 1, 0, 1], [0, 0, 0, 3, 0, 1, 0]]\n"
     ]
    }
   ],
   "source": [
    "print(G.adjacency())"
   ]
  },
  {
   "cell_type": "code",
   "execution_count": 63,
   "id": "2ff1d63e",
   "metadata": {},
   "outputs": [],
   "source": [
    "def getLowestCost(pq):\n",
    "    cost = float(\"inf\")\n",
    "    selected = None\n",
    "    for v in pq:\n",
    "        if pq[v][0] < cost:\n",
    "            selected = v\n",
    "            cost = pq[v][0]\n",
    "    \n",
    "    return selected\n",
    "\n",
    "def shortest_path(G, sV, eV):\n",
    "    # visited_nodes = [(0, sV, None)]\n",
    "    visited_nodes = dict()\n",
    "    verts = G.v\n",
    "    distTable = dict() # priority queue (i.e sorted by distance - shortest first)\n",
    "    for v in verts:\n",
    "        distTable[v] = (float(\"inf\") if v != sV else 0, None if v != sV else sV) # cost and previous node\n",
    "    \n",
    "    while True:\n",
    "        print(distTable)\n",
    "        # cost, node, prev = visited_nodes[0]\n",
    "        node = getLowestCost(distTable)\n",
    "        # print(node)\n",
    "        cost, prev = distTable[node]\n",
    "        # visited_nodes.append((cost, node, prev))\n",
    "        visited_nodes[node] = (cost, prev)\n",
    "        print(visited_nodes)\n",
    "        if node == eV:\n",
    "            break\n",
    "        \n",
    "        next_nodes = G.get_edges_from(node)\n",
    "        for n in next_nodes:\n",
    "            if n[0] not in visited_nodes:\n",
    "                distTable[n[0]] = (n[1] + cost, node)\n",
    "                \n",
    "        distTable.pop(node)\n",
    "                \n",
    "    print(\"Cost: \", visited_nodes[eV][0])\n",
    "    ns = [eV]\n",
    "    while sV not in ns:\n",
    "        prev = visited_nodes[ns[-1]][1]\n",
    "        ns.append(prev)\n",
    "        # print(ns)\n",
    "    \n",
    "    return ns "
   ]
  },
  {
   "cell_type": "code",
   "execution_count": 65,
   "id": "bd9cb049",
   "metadata": {},
   "outputs": [
    {
     "name": "stdout",
     "output_type": "stream",
     "text": [
      "{'A': (0, 'A'), 'B': (inf, None), 'C': (inf, None), 'D': (inf, None), 'E': (inf, None), 'F': (inf, None), 'G': (inf, None)}\n",
      "{'A': (0, 'A')}\n",
      "{'B': (2, 'A'), 'C': (3, 'A'), 'D': (inf, None), 'E': (inf, None), 'F': (inf, None), 'G': (inf, None)}\n",
      "{'A': (0, 'A'), 'B': (2, 'A')}\n",
      "{'C': (3, 'B'), 'D': (6, 'B'), 'E': (inf, None), 'F': (inf, None), 'G': (inf, None)}\n",
      "{'A': (0, 'A'), 'B': (2, 'A'), 'C': (3, 'B')}\n",
      "{'D': (5, 'C'), 'E': (inf, None), 'F': (inf, None), 'G': (inf, None)}\n",
      "{'A': (0, 'A'), 'B': (2, 'A'), 'C': (3, 'B'), 'D': (5, 'C')}\n",
      "{'E': (8, 'D'), 'F': (7, 'D'), 'G': (8, 'D')}\n",
      "{'A': (0, 'A'), 'B': (2, 'A'), 'C': (3, 'B'), 'D': (5, 'C'), 'F': (7, 'D')}\n",
      "{'E': (8, 'F'), 'G': (8, 'F')}\n",
      "{'A': (0, 'A'), 'B': (2, 'A'), 'C': (3, 'B'), 'D': (5, 'C'), 'F': (7, 'D'), 'E': (8, 'F')}\n",
      "{'G': (8, 'F')}\n",
      "{'A': (0, 'A'), 'B': (2, 'A'), 'C': (3, 'B'), 'D': (5, 'C'), 'F': (7, 'D'), 'E': (8, 'F'), 'G': (8, 'F')}\n",
      "Cost:  8\n",
      "['G', 'F', 'D', 'C', 'B', 'A']\n"
     ]
    }
   ],
   "source": [
    "print(shortest_path(G, 'A', 'G'))"
   ]
  },
  {
   "cell_type": "code",
   "execution_count": null,
   "id": "27725962",
   "metadata": {},
   "outputs": [],
   "source": []
  }
 ],
 "metadata": {
  "kernelspec": {
   "display_name": "Python 3 (ipykernel)",
   "language": "python",
   "name": "python3"
  },
  "language_info": {
   "codemirror_mode": {
    "name": "ipython",
    "version": 3
   },
   "file_extension": ".py",
   "mimetype": "text/x-python",
   "name": "python",
   "nbconvert_exporter": "python",
   "pygments_lexer": "ipython3",
   "version": "3.7.13"
  }
 },
 "nbformat": 4,
 "nbformat_minor": 5
}
