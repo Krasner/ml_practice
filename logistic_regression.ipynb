{
 "cells": [
  {
   "cell_type": "code",
   "execution_count": 1,
   "id": "350e5e3e",
   "metadata": {},
   "outputs": [],
   "source": [
    "from sklearn import datasets as ds\n",
    "import numpy as np\n",
    "from IPython.display import display, clear_output"
   ]
  },
  {
   "cell_type": "code",
   "execution_count": 11,
   "id": "90c8f8c4",
   "metadata": {},
   "outputs": [
    {
     "name": "stdout",
     "output_type": "stream",
     "text": [
      "(64, 2)\n"
     ]
    }
   ],
   "source": [
    "X, y = ds.make_blobs(n_samples=64, centers=2, n_features=2)\n",
    "print(X.shape)"
   ]
  },
  {
   "cell_type": "code",
   "execution_count": 3,
   "id": "6834756e",
   "metadata": {},
   "outputs": [],
   "source": [
    "from matplotlib import pyplot as plt"
   ]
  },
  {
   "cell_type": "code",
   "execution_count": 12,
   "id": "093b5565",
   "metadata": {},
   "outputs": [
    {
     "data": {
      "image/png": "[encoded data removed]",
      "text/plain": [
       "<Figure size 432x288 with 1 Axes>"
      ]
     },
     "metadata": {
      "needs_background": "light"
     },
     "output_type": "display_data"
    }
   ],
   "source": [
    "plt.scatter(X[:,0],X[:,1],marker='.',c=y)\n",
    "plt.show()"
   ]
  },
  {
   "cell_type": "code",
   "execution_count": 13,
   "id": "f648ded6",
   "metadata": {},
   "outputs": [],
   "source": [
    "class Logistic:\n",
    "    def __init__(self, lr = 0.001, iters=100, display = False):\n",
    "        self.lr = lr\n",
    "        self.iters = iters\n",
    "        \n",
    "        self.w = None\n",
    "        self.b = None\n",
    "        \n",
    "        self.disp = display\n",
    "        \n",
    "    def fit(self, X, y):\n",
    "        if self.disp:\n",
    "            fig = plt.figure()\n",
    "            ax = fig.add_subplot(1, 1, 1) \n",
    "            \n",
    "        n, d = X.shape\n",
    "        y = np.expand_dims(y, -1) # n x 1\n",
    "        \n",
    "        self.w = np.zeros((1, d))\n",
    "        self.b = 0\n",
    "        \n",
    "        for i in range(self.iters):\n",
    "            yhat = self.sigmoid(np.matmul(X, self.w.T) + self.b)\n",
    "            \n",
    "            dLdw = np.mean((yhat - y) * X, 0) # AXIS\n",
    "            dLdb = np.mean(yhat - y)\n",
    "            \n",
    "            self.w -= self.lr * dLdw\n",
    "            self.b -= self.lr * dLdb\n",
    "            \n",
    "            if self.disp:\n",
    "                ax.cla()\n",
    "                ax.scatter(X[:,0],X[:,1],marker='.',c=yhat)\n",
    "                display(fig)    \n",
    "                clear_output(wait = True)\n",
    "                plt.pause(0.1)\n",
    "            \n",
    "    def sigmoid(self,x):\n",
    "        return 1./(1.+np.exp(-x))\n",
    "    \n",
    "    def predict(self, X):\n",
    "        return self.sigmoid(np.matmul(X, self.w.T) + self.b)"
   ]
  },
  {
   "cell_type": "code",
   "execution_count": 14,
   "id": "042cb8b7",
   "metadata": {},
   "outputs": [
    {
     "name": "stdout",
     "output_type": "stream",
     "text": [
      "[[-0.0423145  -0.04956059]] -0.0010215912822501088\n"
     ]
    }
   ],
   "source": [
    "cls = Logistic(lr = 0.001, iters=100, display = True)\n",
    "cls.fit(X, y)\n",
    "print(cls.w, cls.b)"
   ]
  },
  {
   "cell_type": "code",
   "execution_count": 7,
   "id": "454a9159",
   "metadata": {
    "scrolled": true
   },
   "outputs": [
    {
     "name": "stdout",
     "output_type": "stream",
     "text": [
      "[1 0 0 1 0 0 0 1 0 0 1 1 0 0 0 0 1 0 1 0 1 1 1 0 0 1 1 0 1 0 1 0 1 1 1 1 0\n",
      " 1 0 1 1 1 1 1 1 1 0 0 0 1 0 0 0 0 1 1 1 0 0 0 1 0 0 1]\n",
      "[1 0 0 1 0 0 0 1 0 0 1 1 0 0 0 0 1 0 1 0 1 1 1 0 0 1 1 0 1 0 1 0 1 1 1 1 0\n",
      " 1 0 1 1 1 1 1 1 1 0 0 0 1 0 0 0 0 1 1 1 0 0 0 1 0 0 1]\n"
     ]
    }
   ],
   "source": [
    "Y = cls.predict(X)\n",
    "# print(Y)\n",
    "print(np.where(Y>0.5, 1, 0).ravel())\n",
    "print(y)"
   ]
  },
  {
   "cell_type": "code",
   "execution_count": null,
   "id": "c07009f6",
   "metadata": {},
   "outputs": [],
   "source": []
  }
 ],
 "metadata": {
  "kernelspec": {
   "display_name": "Python 3 (ipykernel)",
   "language": "python",
   "name": "python3"
  },
  "language_info": {
   "codemirror_mode": {
    "name": "ipython",
    "version": 3
   },
   "file_extension": ".py",
   "mimetype": "text/x-python",
   "name": "python",
   "nbconvert_exporter": "python",
   "pygments_lexer": "ipython3",
   "version": "3.7.13"
  }
 },
 "nbformat": 4,
 "nbformat_minor": 5
}
